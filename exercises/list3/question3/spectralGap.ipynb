{
 "cells": [
  {
   "cell_type": "code",
   "execution_count": 28,
   "metadata": {},
   "outputs": [],
   "source": [
    "import numpy as np"
   ]
  },
  {
   "cell_type": "code",
   "execution_count": 29,
   "metadata": {},
   "outputs": [
    {
     "name": "stdout",
     "output_type": "stream",
     "text": [
      "p: 0.25, spectralGap: 0.99981\n",
      "p: 0.5, spectralGap: 0.99979\n",
      "p: 0.75, spectralGap: 0.99659\n"
     ]
    }
   ],
   "source": [
    "n = 10\n",
    "for p in [0.25,0.5,0.75]:\n",
    "    transitionMatrix = np.zeros((n,n))\n",
    "    for i in range(n):\n",
    "        transitionMatrix[i,0] = 1-p\n",
    "        transitionMatrix[i, i+1 if i+1 < n else n-1] = p\n",
    "    eigenValues = np.linalg.eigvals(transitionMatrix)\n",
    "    eigenValues.sort()\n",
    "    eigenValues = eigenValues[::-1]\n",
    "    spectralGap = np.linalg.norm(eigenValues[0]) - np.linalg.norm(eigenValues[1])\n",
    "    print(f\"p: {p}, spectralGap: {spectralGap:.5f}\")"
   ]
  },
  {
   "cell_type": "code",
   "execution_count": null,
   "metadata": {},
   "outputs": [],
   "source": []
  }
 ],
 "metadata": {
  "kernelspec": {
   "display_name": "Python 3",
   "language": "python",
   "name": "python3"
  },
  "language_info": {
   "codemirror_mode": {
    "name": "ipython",
    "version": 3
   },
   "file_extension": ".py",
   "mimetype": "text/x-python",
   "name": "python",
   "nbconvert_exporter": "python",
   "pygments_lexer": "ipython3",
   "version": "3.8.10"
  },
  "orig_nbformat": 4
 },
 "nbformat": 4,
 "nbformat_minor": 2
}
