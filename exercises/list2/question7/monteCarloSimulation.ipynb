{
 "cells": [
  {
   "cell_type": "code",
   "execution_count": 1297,
   "metadata": {},
   "outputs": [],
   "source": [
    "import numpy as np\n",
    "from tqdm import tqdm"
   ]
  },
  {
   "cell_type": "code",
   "execution_count": 1059,
   "metadata": {},
   "outputs": [],
   "source": [
    "URL_TEMPLATE = \"http://www.{}.ufrj.br\""
   ]
  },
  {
   "cell_type": "code",
   "execution_count": 1290,
   "metadata": {},
   "outputs": [],
   "source": [
    "def randomDomainLength(k):\n",
    "    p = np.array([26**i for i in range(1, k+1)])\n",
    "    rand = np.random.choice(list(range(1, k+1)), p = p/p.sum())\n",
    "    return rand"
   ]
  },
  {
   "cell_type": "code",
   "execution_count": 924,
   "metadata": {},
   "outputs": [],
   "source": [
    "def uniformRandomDomainLengthK(k):\n",
    "    domain = \"\".join(np.random.choice([\n",
    "        \"a\",\"b\",\"c\",\"d\",\"e\",\"f\",\"g\",\"h\",\"i\",\"j\",\"k\",\"l\",\"m\",\"n\",\"o\",\"p\",\"q\",\"r\",\"s\",\"t\",\"u\",\"v\",\"w\",\"x\",\"y\",\"z\"\n",
    "    ], size = k, replace = True))\n",
    "    return domain"
   ]
  },
  {
   "cell_type": "code",
   "execution_count": 1060,
   "metadata": {},
   "outputs": [],
   "source": [
    "def randomUFRJDomain(k):\n",
    "    randK = randomDomainLength(k)\n",
    "    randDomainK = uniformRandomDomainLengthK(k)\n",
    "    return URL_TEMPLATE.format(randDomainK)"
   ]
  },
  {
   "cell_type": "code",
   "execution_count": 1299,
   "metadata": {},
   "outputs": [
    {
     "name": "stderr",
     "output_type": "stream",
     "text": [
      " 14%|█▎        | 1364/10000 [02:14<13:07, 10.97it/s] "
     ]
    }
   ],
   "source": [
    "import requests\n",
    "\n",
    "exists = []\n",
    "\n",
    "notExists = []\n",
    "\n",
    "def check_website(url):\n",
    "    try: \n",
    "        result = requests.head(url, timeout = 5)\n",
    "        return results.status_code == 200 \n",
    "    except:\n",
    "        return False\n",
    "\n",
    "urls = [randomUFRJDomain(4) for i in range(10**4)]\n",
    "for url in tqdm(urls):\n",
    "    result_exist = check_website(url)\n",
    "    if result_exist:\n",
    "        exists.append(url)\n",
    "    else:\n",
    "        notExists.append(url)"
   ]
  },
  {
   "cell_type": "code",
   "execution_count": null,
   "metadata": {},
   "outputs": [],
   "source": []
  }
 ],
 "metadata": {
  "kernelspec": {
   "display_name": "Python 3",
   "language": "python",
   "name": "python3"
  },
  "language_info": {
   "codemirror_mode": {
    "name": "ipython",
    "version": 3
   },
   "file_extension": ".py",
   "mimetype": "text/x-python",
   "name": "python",
   "nbconvert_exporter": "python",
   "pygments_lexer": "ipython3",
   "version": "3.8.10"
  },
  "orig_nbformat": 4
 },
 "nbformat": 4,
 "nbformat_minor": 2
}
